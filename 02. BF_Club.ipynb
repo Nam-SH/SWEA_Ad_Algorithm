{
 "cells": [
  {
   "cell_type": "markdown",
   "metadata": {},
   "source": [
    "# 1865. 동철이의 일 분배\n",
    "\n",
    "<br>\n",
    "\n",
    "![image](https://user-images.githubusercontent.com/50367487/64955406-1db2f300-d8c3-11e9-883a-dc67efeab77a.png)"
   ]
  },
  {
   "cell_type": "code",
   "execution_count": null,
   "metadata": {},
   "outputs": [],
   "source": [
    "import sys; sys.stdin = open('data/(1865)input.txt', 'r')\n",
    "\n",
    "def find(idx, res):\n",
    "    global Max\n",
    "\n",
    "    if Max >= res: return\n",
    "\n",
    "    if idx == N:\n",
    "        if Max < res: Max = res\n",
    "        return\n",
    "\n",
    "    for i in range(N):\n",
    "        if c[i]: continue\n",
    "        if arr[idx][i] == 0: continue\n",
    "        c[i] = True\n",
    "        find(idx + 1, res * arr[idx][i])\n",
    "        c[i] = False\n",
    "\n",
    "for tc in range(int(input())):\n",
    "    N = int(input())\n",
    "    arr = [list(map(lambda x: int(x)/100, input().split())) for _ in range(N)]\n",
    "    c = [0] * N\n",
    "    Max = 0\n",
    "    find(0, 1)\n",
    "    print('#{} {:.6f}'.format(tc + 1, round(Max*100, 6)))"
   ]
  }
 ],
 "metadata": {
  "kernelspec": {
   "display_name": "Python 3",
   "language": "python",
   "name": "python3"
  },
  "language_info": {
   "codemirror_mode": {
    "name": "ipython",
    "version": 3
   },
   "file_extension": ".py",
   "mimetype": "text/x-python",
   "name": "python",
   "nbconvert_exporter": "python",
   "pygments_lexer": "ipython3",
   "version": "3.7.4"
  },
  "toc": {
   "base_numbering": 1,
   "nav_menu": {},
   "number_sections": true,
   "sideBar": true,
   "skip_h1_title": false,
   "title_cell": "Table of Contents",
   "title_sidebar": "Contents",
   "toc_cell": false,
   "toc_position": {},
   "toc_section_display": true,
   "toc_window_display": false
  }
 },
 "nbformat": 4,
 "nbformat_minor": 4
}
