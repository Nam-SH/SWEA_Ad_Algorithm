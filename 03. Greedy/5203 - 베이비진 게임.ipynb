{
 "cells": [
  {
   "cell_type": "markdown",
   "metadata": {},
   "source": [
    "# 5203. 베이비진 게임\n",
    "\n",
    "<br>\n",
    "\n",
    "![image](https://user-images.githubusercontent.com/50367487/64157046-ed099d00-ce70-11e9-874d-e103f7602b9c.png)"
   ]
  },
  {
   "cell_type": "code",
   "execution_count": null,
   "metadata": {},
   "outputs": [],
   "source": [
    "def babygin(data):\n",
    "    global res\n",
    "\n",
    "    cnt = [0] * 10\n",
    "    for i in range(len(data)): cnt[data[i]] += 1\n",
    "\n",
    "    for i in range(len(cnt)):\n",
    "        if cnt[i] >= 3:\n",
    "            cnt[i] -= 3\n",
    "            res += 1\n",
    "\n",
    "        if not (i - 1 >= 0 and i + 1 < len(cnt)): continue\n",
    "        if cnt[i - 1] > 0 and cnt[i] > 0 and cnt[i + 1] > 0:\n",
    "            cnt[i - 1] -= 1\n",
    "            cnt[i] -= 1\n",
    "            cnt[i + 1] -= 1\n",
    "            res += 1\n",
    "\n",
    "    for i in range(len(cnt)):\n",
    "        if not cnt[i]:\n",
    "            return"
   ]
  },
  {
   "cell_type": "code",
   "execution_count": null,
   "metadata": {},
   "outputs": [],
   "source": [
    "import sys; sys.stdin = open('data/(5203)input.txt', 'r')\n",
    "\n",
    "def babygin(data):\n",
    "    cnt = [0] * 10\n",
    "    for i in range(len(data)): cnt[data[i]] += 1\n",
    "\n",
    "    for i in range(len(cnt)):\n",
    "        if cnt[i] >= 3:\n",
    "            cnt[i] -= 3\n",
    "            return True\n",
    "\n",
    "        if not (i - 1 >= 0 and i + 1 < len(cnt)): continue\n",
    "        if cnt[i - 1] > 0 and cnt[i] > 0 and cnt[i + 1] > 0:\n",
    "            return True\n",
    "\n",
    "    for i in range(len(cnt)):\n",
    "        if not cnt[i]: return False\n",
    "\n",
    "for tc in range(int(input())):\n",
    "    arr = list(map(int, input().split()))\n",
    "    cnt = [0] * 10\n",
    "    \n",
    "    one, two = [], []\n",
    "    for i in range(0, len(arr), 2):\n",
    "        one.append(arr[i])\n",
    "        two.append(arr[i + 1])\n",
    "\n",
    "        out = 0; num = 1\n",
    "        for i in one, two:\n",
    "            if babygin(i):\n",
    "                print('#{} {}'.format(tc + 1, num))\n",
    "                out = 1\n",
    "                break\n",
    "            num += 1\n",
    "        if out: break\n",
    "    else: print('#{} 0'.format(tc + 1))"
   ]
  }
 ],
 "metadata": {
  "kernelspec": {
   "display_name": "Python 3",
   "language": "python",
   "name": "python3"
  },
  "language_info": {
   "codemirror_mode": {
    "name": "ipython",
    "version": 3
   },
   "file_extension": ".py",
   "mimetype": "text/x-python",
   "name": "python",
   "nbconvert_exporter": "python",
   "pygments_lexer": "ipython3",
   "version": "3.7.6"
  },
  "toc": {
   "base_numbering": 1,
   "nav_menu": {},
   "number_sections": true,
   "sideBar": true,
   "skip_h1_title": false,
   "title_cell": "Table of Contents",
   "title_sidebar": "Contents",
   "toc_cell": false,
   "toc_position": {},
   "toc_section_display": true,
   "toc_window_display": false
  }
 },
 "nbformat": 4,
 "nbformat_minor": 4
}
