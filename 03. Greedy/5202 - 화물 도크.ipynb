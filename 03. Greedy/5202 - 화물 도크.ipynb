{
 "cells": [
  {
   "cell_type": "markdown",
   "metadata": {},
   "source": [
    "# 5202. 화물 도크\n",
    "\n",
    "<br>\n",
    "\n",
    "![image](https://user-images.githubusercontent.com/50367487/64157035-e713bc00-ce70-11e9-93a3-293105f993f8.png)"
   ]
  },
  {
   "cell_type": "code",
   "execution_count": null,
   "metadata": {},
   "outputs": [],
   "source": [
    "import sys; sys.stdin = open('data/(5202)input.txt', 'r')\n",
    "\n",
    "\n",
    "def find(idx):\n",
    "    global start\n",
    "\n",
    "    if idx == N:\n",
    "        print('#{} {}'.format(tc + 1, len(ans)))\n",
    "        return\n",
    "\n",
    "    if start <= arr[idx][0]:\n",
    "        ans.append(arr[idx])\n",
    "        start = arr[idx][1]\n",
    "        find(idx + 1)\n",
    "    else:\n",
    "        find(idx + 1)\n",
    "\n",
    "for tc in range(int(input())):\n",
    "    N = int(input())\n",
    "    arr = [tuple(map(int, input().split())) for  _ in range(N)]\n",
    "    arr.sort(key=lambda x:x[1])\n",
    "\n",
    "    ans = [arr[0]]\n",
    "    start = arr[0][1]\n",
    "    check = [0]*N\n",
    "\n",
    "    find(1)"
   ]
  }
 ],
 "metadata": {
  "kernelspec": {
   "display_name": "Python 3",
   "language": "python",
   "name": "python3"
  },
  "language_info": {
   "codemirror_mode": {
    "name": "ipython",
    "version": 3
   },
   "file_extension": ".py",
   "mimetype": "text/x-python",
   "name": "python",
   "nbconvert_exporter": "python",
   "pygments_lexer": "ipython3",
   "version": "3.7.6"
  },
  "toc": {
   "base_numbering": 1,
   "nav_menu": {},
   "number_sections": true,
   "sideBar": true,
   "skip_h1_title": false,
   "title_cell": "Table of Contents",
   "title_sidebar": "Contents",
   "toc_cell": false,
   "toc_position": {},
   "toc_section_display": true,
   "toc_window_display": false
  }
 },
 "nbformat": 4,
 "nbformat_minor": 4
}
