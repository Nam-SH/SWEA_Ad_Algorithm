{
 "cells": [
  {
   "cell_type": "markdown",
   "metadata": {},
   "source": [
    "# 5201. 컨테이너 운반\n",
    "\n",
    "\n",
    "<br>\n",
    "\n",
    "![image](https://user-images.githubusercontent.com/50367487/64157071-001c6d00-ce71-11e9-953d-c09ed3d52379.png)"
   ]
  },
  {
   "cell_type": "code",
   "execution_count": null,
   "metadata": {},
   "outputs": [],
   "source": [
    "import sys; sys.stdin = open('data/(5201)input.txt', 'r')\n",
    "\n",
    "for tc in range(int(input())):\n",
    "    N, M = map(int, input().split())\n",
    "    Weight = list(map(int, input().split()))\n",
    "    Truck = list(map(int, input().split()))\n",
    "\n",
    "    Truck_finall = [0] * len(Truck)\n",
    "    Weight_check = [False] * len(Weight)\n",
    "\n",
    "    Weight.sort(reverse=True)\n",
    "    Truck.sort(reverse=True)\n",
    "\n",
    "    for t in range(len(Truck)):\n",
    "        for w in range(len(Weight)):\n",
    "            if Weight_check[w]: continue\n",
    "            if Truck[t] >= Weight[w]:\n",
    "                Truck_finall[t] = Weight[w]\n",
    "                Weight_check[w]= True\n",
    "                break\n",
    "\n",
    "    print('#{} {}'.format(tc + 1, sum(Truck_finall)))"
   ]
  }
 ],
 "metadata": {
  "kernelspec": {
   "display_name": "Python 3",
   "language": "python",
   "name": "python3"
  },
  "language_info": {
   "codemirror_mode": {
    "name": "ipython",
    "version": 3
   },
   "file_extension": ".py",
   "mimetype": "text/x-python",
   "name": "python",
   "nbconvert_exporter": "python",
   "pygments_lexer": "ipython3",
   "version": "3.7.6"
  },
  "toc": {
   "base_numbering": 1,
   "nav_menu": {},
   "number_sections": true,
   "sideBar": true,
   "skip_h1_title": false,
   "title_cell": "Table of Contents",
   "title_sidebar": "Contents",
   "toc_cell": false,
   "toc_position": {},
   "toc_section_display": true,
   "toc_window_display": false
  }
 },
 "nbformat": 4,
 "nbformat_minor": 4
}
