{
 "cells": [
  {
   "cell_type": "markdown",
   "metadata": {},
   "source": [
    "# 5188. 최소합\n",
    "\n",
    "<br>\n",
    "\n",
    "![image](https://user-images.githubusercontent.com/50367487/64149016-cbec8080-ce5f-11e9-9d77-2b5e3dc0137b.png)"
   ]
  },
  {
   "cell_type": "code",
   "execution_count": null,
   "metadata": {},
   "outputs": [],
   "source": [
    "import sys; sys.stdin = open('data/(5188)input.txt', 'r')\n",
    "\n",
    "def DFS(i, j, s):\n",
    "    global Min, check\n",
    "\n",
    "    if Min <= s: return\n",
    "\n",
    "    if (i, j) == (N - 1, N - 1):\n",
    "        Min = s\n",
    "        return\n",
    "\n",
    "    for dy, dx in (1, 0), (0, 1):\n",
    "        ty = i + dy\n",
    "        tx = j + dx\n",
    "        if not (0 <= ty < N and 0 <= tx < N): continue\n",
    "        if check[ty][tx]: continue\n",
    "        check[ty][tx] = 1\n",
    "        DFS(ty, tx, s + arr[ty][tx])\n",
    "        check[ty][tx] = 0\n",
    "\n",
    "for tc in range(int(input())):\n",
    "    N = int(input())\n",
    "    arr = [list(map(int, input().split())) for _ in range(N)]\n",
    "    check = [[0] * N for _ in range(N)]\n",
    "    Min = 999\n",
    "    DFS(0, 0, arr[0][0])\n",
    "    print('#{} {}'.format(tc + 1, Min))"
   ]
  }
 ],
 "metadata": {
  "kernelspec": {
   "display_name": "Python 3",
   "language": "python",
   "name": "python3"
  },
  "language_info": {
   "codemirror_mode": {
    "name": "ipython",
    "version": 3
   },
   "file_extension": ".py",
   "mimetype": "text/x-python",
   "name": "python",
   "nbconvert_exporter": "python",
   "pygments_lexer": "ipython3",
   "version": "3.7.6"
  },
  "toc": {
   "base_numbering": 1,
   "nav_menu": {},
   "number_sections": true,
   "sideBar": true,
   "skip_h1_title": false,
   "title_cell": "Table of Contents",
   "title_sidebar": "Contents",
   "toc_cell": false,
   "toc_position": {},
   "toc_section_display": true,
   "toc_window_display": false
  }
 },
 "nbformat": 4,
 "nbformat_minor": 4
}
