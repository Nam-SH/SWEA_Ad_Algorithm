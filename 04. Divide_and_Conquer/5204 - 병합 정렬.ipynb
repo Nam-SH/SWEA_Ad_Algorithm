{
 "cells": [
  {
   "cell_type": "markdown",
   "metadata": {},
   "source": [
    "# 5204. 병합 정렬\n",
    "\n",
    "<br>\n",
    "\n",
    "![image](https://user-images.githubusercontent.com/50367487/65002416-a74bda80-d92e-11e9-9ec4-3d85dce93fdb.png)"
   ]
  },
  {
   "cell_type": "code",
   "execution_count": null,
   "metadata": {},
   "outputs": [],
   "source": [
    "def mergeSort(lo, hi):\n",
    "    global ans\n",
    "    if lo + 1 == hi: return arr[lo]\n",
    "\n",
    "    mid = (lo + hi) >> 1\n",
    "\n",
    "    l = mergeSort(lo, mid)\n",
    "    r = mergeSort(mid, hi)\n",
    "\n",
    "    if l > r:\n",
    "        ans += 1\n",
    "        return l\n",
    "    else:\n",
    "        return r\n",
    "\n",
    "\n",
    "for tc in range(int(input())):\n",
    "    N = int(input())\n",
    "    arr = list(map(int, input().split()))\n",
    "\n",
    "    ans = 0\n",
    "    mergeSort(0, N)\n",
    "    arr.sort()\n",
    "    print(\"#%d %d %d\" % (tc, arr[N//2], ans))"
   ]
  },
  {
   "cell_type": "code",
   "execution_count": null,
   "metadata": {},
   "outputs": [],
   "source": [
    "def mergeSort(arr, lo, hi):\n",
    "\n",
    "    global ans\n",
    "    if lo + 1 == hi: return\n",
    "\n",
    "    mid = (lo + hi) >> 1\n",
    "\n",
    "    mergeSort(arr, lo, mid)\n",
    "    mergeSort(arr, mid, hi)\n",
    "\n",
    "    if arr[mid - 1] > arr[hi - 1]:\n",
    "        ans += 1\n",
    "    i, j, k = lo, mid, lo\n",
    "\n",
    "    while i < mid and j < hi:\n",
    "        if arr[i] <= arr[j]:\n",
    "            sorted[k] = arr[i]\n",
    "            k, i = k + 1, i + 1\n",
    "        else:\n",
    "            sorted[k] = arr[j]\n",
    "            k, j = k + 1, j + 1\n",
    "\n",
    "    while i < mid:\n",
    "        sorted[k] = arr[i]\n",
    "        k, i = k + 1, i + 1\n",
    "    while j < hi:\n",
    "        sorted[k] = arr[j]\n",
    "        k, j = k + 1, j + 1\n",
    "\n",
    "    for i in range(lo, hi):\n",
    "        arr[i] = sorted[i]\n",
    "\n",
    "\n",
    "sorted = [0] * 1000000\n",
    "\n",
    "for tc in range(int(input())):\n",
    "    N = int(input())\n",
    "    arr = list(map(int, input().split()))\n",
    "\n",
    "    ans = 0\n",
    "    mergeSort(arr, 0, N)\n",
    "\n",
    "    print(\"#%d %d %d\" % (tc, arr[N//2], ans))"
   ]
  }
 ],
 "metadata": {
  "kernelspec": {
   "display_name": "Python 3",
   "language": "python",
   "name": "python3"
  },
  "language_info": {
   "codemirror_mode": {
    "name": "ipython",
    "version": 3
   },
   "file_extension": ".py",
   "mimetype": "text/x-python",
   "name": "python",
   "nbconvert_exporter": "python",
   "pygments_lexer": "ipython3",
   "version": "3.7.6"
  },
  "toc": {
   "base_numbering": 1,
   "nav_menu": {},
   "number_sections": true,
   "sideBar": true,
   "skip_h1_title": false,
   "title_cell": "Table of Contents",
   "title_sidebar": "Contents",
   "toc_cell": false,
   "toc_position": {},
   "toc_section_display": true,
   "toc_window_display": false
  }
 },
 "nbformat": 4,
 "nbformat_minor": 4
}
