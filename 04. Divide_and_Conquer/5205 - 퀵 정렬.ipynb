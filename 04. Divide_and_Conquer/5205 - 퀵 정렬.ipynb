{
 "cells": [
  {
   "cell_type": "markdown",
   "metadata": {},
   "source": [
    "# 5205. 퀵 정렬\n",
    "\n",
    "<br>\n",
    "\n",
    "![image](https://user-images.githubusercontent.com/50367487/65002420-ad41bb80-d92e-11e9-82ad-4e42928a9f22.png)"
   ]
  },
  {
   "cell_type": "code",
   "execution_count": null,
   "metadata": {},
   "outputs": [],
   "source": [
    "def quick_select(arr, lo, hi, kth):\n",
    "    j = lo - 1\n",
    "    while kth != j:\n",
    "\n",
    "        i, j = lo, hi\n",
    "        while i < j:\n",
    "            while i <= hi and arr[i] <= arr[lo]:\n",
    "                i += 1\n",
    "            while arr[j] > arr[lo]:\n",
    "                j -= 1\n",
    "            if i >= j: break\n",
    "\n",
    "            arr[i], arr[j] = arr[j], arr[i]\n",
    "\n",
    "        arr[lo], arr[j] = arr[j], arr[lo]\n",
    "\n",
    "        if j < kth: lo = j + 1\n",
    "        else: hi = j - 1\n",
    "\n",
    "    return arr[j]\n",
    "\n",
    "\n",
    "for tc in range(int(input())):\n",
    "    N = int(input())\n",
    "    arr = list(map(int, input().split()))\n",
    "    K = N//2\n",
    "\n",
    "    print(\"#%d %d\" % (tc + 1,  quick_select(arr, 0, N - 1, K)))"
   ]
  },
  {
   "cell_type": "code",
   "execution_count": null,
   "metadata": {},
   "outputs": [],
   "source": [
    "def quickSort(lo, hi):\n",
    "    if lo >= hi:\n",
    "        return\n",
    "\n",
    "    i = lo - 1\n",
    "\n",
    "    for j in range(lo, hi):\n",
    "        if arr[j] < arr[hi]:\n",
    "            i += 1\n",
    "            arr[i], arr[j] = arr[j], arr[i]\n",
    "\n",
    "    i += 1\n",
    "    arr[i], arr[hi] = arr[hi], arr[i]\n",
    "\n",
    "    quickSort(lo, i - 1)\n",
    "    quickSort(i + 1, hi)\n",
    "\n",
    "\n",
    "for tc in range(int(input())):\n",
    "    N = int(input())\n",
    "    arr = list(map(int, input().split()))\n",
    "\n",
    "    quickSort(0, N - 1)\n",
    "\n",
    "    print(\"#%d %d\" % (tc + 1, arr[N//2]))"
   ]
  }
 ],
 "metadata": {
  "kernelspec": {
   "display_name": "Python 3",
   "language": "python",
   "name": "python3"
  },
  "language_info": {
   "codemirror_mode": {
    "name": "ipython",
    "version": 3
   },
   "file_extension": ".py",
   "mimetype": "text/x-python",
   "name": "python",
   "nbconvert_exporter": "python",
   "pygments_lexer": "ipython3",
   "version": "3.7.6"
  },
  "toc": {
   "base_numbering": 1,
   "nav_menu": {},
   "number_sections": true,
   "sideBar": true,
   "skip_h1_title": false,
   "title_cell": "Table of Contents",
   "title_sidebar": "Contents",
   "toc_cell": false,
   "toc_position": {},
   "toc_section_display": true,
   "toc_window_display": false
  }
 },
 "nbformat": 4,
 "nbformat_minor": 4
}
