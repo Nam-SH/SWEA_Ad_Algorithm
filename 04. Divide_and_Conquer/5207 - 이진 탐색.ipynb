{
 "cells": [
  {
   "cell_type": "markdown",
   "metadata": {},
   "source": [
    "# 5207. 이진 탐색\n",
    "\n",
    "<br>\n",
    "\n",
    "![image](https://user-images.githubusercontent.com/50367487/65002427-b599f680-d92e-11e9-806c-6f4c81d21a1a.png)"
   ]
  },
  {
   "cell_type": "code",
   "execution_count": null,
   "metadata": {},
   "outputs": [],
   "source": [
    "for tc in range(int(input())):\n",
    "    N, M = map(int, input().split())\n",
    "    arr = list(map(int, input().split()))\n",
    "    keys = list(map(int, input().split()))\n",
    "\n",
    "    arr.sort()\n",
    "    ans = 0\n",
    "\n",
    "    for key in keys:\n",
    "        lo, hi = 0, len(arr) - 1\n",
    "        prev, cur = -1, 0\n",
    "        while lo <= hi and prev != cur:\n",
    "            prev = cur\n",
    "            mid = (lo + hi) >> 1\n",
    "            if arr[mid] == key:\n",
    "                ans += 1\n",
    "                break\n",
    "            elif arr[mid] > key:\n",
    "                hi, cur = mid - 1, 1\n",
    "            else:\n",
    "                lo, cur = mid + 1, 2\n",
    "\n",
    "    print(\"#%d %d\" % (tc + 1, ans))"
   ]
  }
 ],
 "metadata": {
  "kernelspec": {
   "display_name": "Python 3",
   "language": "python",
   "name": "python3"
  },
  "language_info": {
   "codemirror_mode": {
    "name": "ipython",
    "version": 3
   },
   "file_extension": ".py",
   "mimetype": "text/x-python",
   "name": "python",
   "nbconvert_exporter": "python",
   "pygments_lexer": "ipython3",
   "version": "3.7.6"
  },
  "toc": {
   "base_numbering": 1,
   "nav_menu": {},
   "number_sections": true,
   "sideBar": true,
   "skip_h1_title": false,
   "title_cell": "Table of Contents",
   "title_sidebar": "Contents",
   "toc_cell": false,
   "toc_position": {},
   "toc_section_display": true,
   "toc_window_display": false
  }
 },
 "nbformat": 4,
 "nbformat_minor": 4
}
