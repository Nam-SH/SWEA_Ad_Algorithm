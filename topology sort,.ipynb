{
 "cells": [
  {
   "cell_type": "markdown",
   "metadata": {},
   "source": [
    "# 위상 정렬 (topology sort)\n",
    "\n",
    "<br>\n",
    "\n",
    "![image](https://user-images.githubusercontent.com/50367487/66188083-62130100-e6c1-11e9-97c7-c7cda5628d23.png)"
   ]
  },
  {
   "cell_type": "code",
   "execution_count": null,
   "metadata": {},
   "outputs": [],
   "source": [
    "from collections import deque\n",
    "\n",
    "def topologySort():\n",
    "    q = deque()\n",
    "\n",
    "    for i in range(1, n + 1):\n",
    "        if inDegree[i] == 0:\n",
    "            q.append(i)\n",
    "\n",
    "    for i in range(1, n + 1):\n",
    "        if not q:\n",
    "            print('사이클이 발생했습니다.')\n",
    "            return\n",
    "\n",
    "        x = q.popleft()\n",
    "        result[i] = x\n",
    "\n",
    "        for i in range(len(arr[x])):\n",
    "            y = arr[x][i]\n",
    "            inDegree[y] -= 1\n",
    "            if inDegree[y] == 0:\n",
    "                q.append(y)\n",
    "\n",
    "    for i in range(1, n + 1):\n",
    "        print('{}'.format(result[i]), end=' ')\n",
    "\n",
    "\n",
    "arr = [[] for _ in range(10)]\n",
    "inDegree = [0] * 10\n",
    "\n",
    "result = [[] for _ in range(10)]\n",
    "\n",
    "Max = 10\n",
    "n = 7\n",
    "data = [\n",
    "    (1, 2), (1, 5), (2, 3), (3, 4),\n",
    "    (4, 6), (5, 6), (6, 7)\n",
    "]\n",
    "\n",
    "for i in range(len(data)):\n",
    "    arr[data[i][0]].append(data[i][1])\n",
    "    inDegree[data[i][1]] += 1\n",
    "\n",
    "topologySort()"
   ]
  }
 ],
 "metadata": {
  "kernelspec": {
   "display_name": "Python 3",
   "language": "python",
   "name": "python3"
  },
  "language_info": {
   "codemirror_mode": {
    "name": "ipython",
    "version": 3
   },
   "file_extension": ".py",
   "mimetype": "text/x-python",
   "name": "python",
   "nbconvert_exporter": "python",
   "pygments_lexer": "ipython3",
   "version": "3.7.4"
  }
 },
 "nbformat": 4,
 "nbformat_minor": 4
}
