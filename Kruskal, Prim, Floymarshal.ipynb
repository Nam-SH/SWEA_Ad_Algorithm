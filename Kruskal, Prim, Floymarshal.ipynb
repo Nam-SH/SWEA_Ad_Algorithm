{
 "cells": [
  {
   "cell_type": "markdown",
   "metadata": {},
   "source": [
    "# Union-Find 알고리즘\n",
    "\n",
    "<br>\n",
    "\n",
    "![image](https://user-images.githubusercontent.com/50367487/65942982-6ba22c00-e469-11e9-8614-cc468a0e2c19.png)"
   ]
  },
  {
   "cell_type": "code",
   "execution_count": 3,
   "metadata": {},
   "outputs": [
    {
     "name": "stdout",
     "output_type": "stream",
     "text": [
      "1과 5는 연결되어있나요?  False\n",
      "1과 5는 연결되어있나요?  True\n"
     ]
    }
   ],
   "source": [
    "def getParent(parent, num):\n",
    "    if parent[num] == num: return num\n",
    "    return getParent(parent, parent[num])\n",
    "\n",
    "def unionParent(parent, num1, num2):\n",
    "    a = getParent(parent, num1)\n",
    "    b = getParent(parent, num2)\n",
    "    if a == b: return\n",
    "    if a < b: parent[b] = a\n",
    "    else: parent[a] = b\n",
    "\n",
    "def findParent(parent, num1, num2):\n",
    "    a = getParent(parent, num1)\n",
    "    b = getParent(parent, num2)\n",
    "    if a == b: return True\n",
    "    else: return False\n",
    "    \n",
    "    \n",
    "parent = [i for i in range(11)]\n",
    "\n",
    "unionParent(parent, 1, 2)\n",
    "unionParent(parent, 2, 3)\n",
    "unionParent(parent, 3, 4)\n",
    "unionParent(parent, 5, 6)\n",
    "unionParent(parent, 6, 7)\n",
    "unionParent(parent, 7, 8)\n",
    "print(\"1과 5는 연결되어있나요? \", findParent(parent, 1, 5))\n",
    "unionParent(parent, 1, 5)\n",
    "print(\"1과 5는 연결되어있나요? \", findParent(parent, 1, 5))"
   ]
  },
  {
   "cell_type": "markdown",
   "metadata": {},
   "source": [
    "# 크루스칼 알고리즘(Kruskal Algorithm)\n",
    "\n",
    "<br>\n",
    "\n",
    "![image](https://user-images.githubusercontent.com/50367487/65943107-a906b980-e469-11e9-8946-5843056bf331.png)\n",
    "![image](https://user-images.githubusercontent.com/50367487/65943120-b2902180-e469-11e9-9502-bb9f5d90a59c.png)\n"
   ]
  },
  {
   "cell_type": "code",
   "execution_count": 6,
   "metadata": {},
   "outputs": [
    {
     "name": "stdout",
     "output_type": "stream",
     "text": [
      "3\n"
     ]
    }
   ],
   "source": [
    "def getParent(parent, num):\n",
    "    if parent[num] == num: return num\n",
    "    return getParent(parent, parent[num])\n",
    "\n",
    "def unionParent(parent, num1, num2):\n",
    "    a = getParent(parent, num1)\n",
    "    b = getParent(parent, num2)\n",
    "    if a == b: return\n",
    "    if a < b: parent[b] = a\n",
    "    else: parent[a] = b\n",
    "\n",
    "def findParent(parent, num1, num2):\n",
    "    a = getParent(parent, num1)\n",
    "    b = getParent(parent, num2)\n",
    "    if a == b: return True\n",
    "    else: return False\n",
    "\n",
    "V = 7\n",
    "E = 11\n",
    "\n",
    "parent = [i for i in range(V + 1)]\n",
    "\n",
    "arr = []\n",
    "arr.append((1, 7, 12))\n",
    "arr.append((1, 4, 28))\n",
    "arr.append((1, 2, 67))\n",
    "arr.append((1, 5, 17))\n",
    "arr.append((2, 4, 24))\n",
    "arr.append((2, 5, 62))\n",
    "arr.append((3, 5, 20))\n",
    "arr.append((3, 6, 37))\n",
    "arr.append((4, 7, 13))\n",
    "arr.append((5, 6, 45))\n",
    "arr.append((5, 7, 73))\n",
    "\n",
    "arr.sort(key = lambda x: x[2])\n",
    "\n",
    "sum = 0\n",
    "for a in arr:\n",
    "    if findParent(parent, a[0], a[1]): continue\n",
    "    sum += a[2]\n",
    "    unionParent(parent, a[0], a[1])\n",
    "\n",
    "print(sum)"
   ]
  },
  {
   "cell_type": "markdown",
   "metadata": {},
   "source": [
    "# 프림 알고리즘(Prim Algorithm)\n",
    "\n",
    "<br>\n",
    "\n",
    "![image](https://user-images.githubusercontent.com/50367487/65943044-87a5cd80-e469-11e9-934c-a3a38411442f.png)"
   ]
  },
  {
   "cell_type": "code",
   "execution_count": null,
   "metadata": {},
   "outputs": [],
   "source": [
    "from heapq import heappush, heappop\n",
    "\n",
    "def prim(start):\n",
    "\n",
    "    visit[start] = True\n",
    "\n",
    "    priority_queue = []\n",
    "\n",
    "    for i in range(len(arr[start])):\n",
    "        nextweight, next = arr[start][i]\n",
    "        heappush(priority_queue, (nextweight, next))\n",
    "\n",
    "    ans = 0\n",
    "    while priority_queue:\n",
    "\n",
    "        hereweight, here = heappop(priority_queue)\n",
    "        if visit[here]: continue\n",
    "        visit[here] = True\n",
    "        ans += hereweight\n",
    "        for i in range(len(arr[here])):\n",
    "            thereweight, there = arr[here][i]\n",
    "            heappush(priority_queue, (thereweight, there))\n",
    "    print(ans)\n",
    "\n",
    "V = 7\n",
    "E = 11\n",
    "\n",
    "visit = [0] * (V + 1)\n",
    "\n",
    "arr = [[] for _ in range(V + 1)]\n",
    "\n",
    "data = [\n",
    "    (1, 2, 2),\n",
    "    (2, 3, 5),\n",
    "    (1, 3, 20),\n",
    "    (1, 4, 10),\n",
    "    (4, 5, 1),\n",
    "    (5, 6, 23),\n",
    "    (3, 6, 3),\n",
    "    (3, 5, 6),\n",
    "    (7, 6, 9),\n",
    "    (7, 3, 2),\n",
    "    (2, 7, 7)\n",
    "]\n",
    "\n",
    "for num1, num2, weight in data:\n",
    "    arr[num1].append((weight, num2))\n",
    "    arr[num2].append((weight, num1))\n",
    "\n",
    "prim(1)"
   ]
  },
  {
   "cell_type": "markdown",
   "metadata": {},
   "source": [
    "# 다익스트라 알고리즘\n",
    "\n",
    "<br>\n",
    "\n",
    "![image](https://user-images.githubusercontent.com/50367487/65944713-4b746c00-e46d-11e9-8371-eeef5205e672.png)\n",
    "![image](https://user-images.githubusercontent.com/50367487/65944740-5929f180-e46d-11e9-9a67-0f4be5c69854.png)"
   ]
  },
  {
   "cell_type": "code",
   "execution_count": null,
   "metadata": {},
   "outputs": [],
   "source": [
    "from heapq import heappush, heappop\n",
    "\n",
    "def dijkstra(start):\n",
    "    d[start] = 0\n",
    "    priority_queue = []\n",
    "    heappush(priority_queue, (start, 0))\n",
    "\n",
    "    while priority_queue:\n",
    "        current, distance = heappop(priority_queue)\n",
    "        if d[current] < distance: continue\n",
    "        for i in range(len(a[current])):\n",
    "            next = a[current][i][0]\n",
    "            nextDistance = distance + a[current][i][1]\n",
    "            if nextDistance < d[next]:\n",
    "                d[next] = nextDistance\n",
    "                heappush(priority_queue, (next, nextDistance))\n",
    "\n",
    "N = 6\n",
    "a = [[] for _ in range(N + 1)] # 간선\n",
    "INF = sys.maxsize\n",
    "d = [INF] * (N + 1)\n",
    "\n",
    "a[1].append((2, 2))\n",
    "a[1].append((3, 5))\n",
    "a[1].append((4, 1))\n",
    "\n",
    "a[2].append((1, 2))\n",
    "a[2].append((3, 3))\n",
    "a[2].append((4, 2))\n",
    "\n",
    "a[3].append((1, 5))\n",
    "a[3].append((2, 3))\n",
    "a[3].append((4, 3))\n",
    "a[3].append((5, 1))\n",
    "a[3].append((6, 5))\n",
    "\n",
    "a[4].append((1, 1))\n",
    "a[4].append((2, 2))\n",
    "a[4].append((3, 3))\n",
    "a[4].append((5, 1))\n",
    "\n",
    "a[5].append((3, 1))\n",
    "a[5].append((4, 1))\n",
    "a[5].append((6, 2))\n",
    "\n",
    "a[6].append((3, 5))\n",
    "a[6].append((5, 2))\n",
    "\n",
    "\n",
    "dijkstra(1)\n",
    "\n",
    "print(d)"
   ]
  },
  {
   "cell_type": "markdown",
   "metadata": {},
   "source": [
    "# 플로이드 와샬 알고리즘(Floyd Warshall Algorithm) \n",
    "\n",
    "<br>\n",
    "\n",
    "![image](https://user-images.githubusercontent.com/50367487/65944657-2a138000-e46d-11e9-9448-aaaeaae0c798.png)"
   ]
  },
  {
   "cell_type": "code",
   "execution_count": 17,
   "metadata": {},
   "outputs": [
    {
     "name": "stdout",
     "output_type": "stream",
     "text": [
      "[[0, 5, 65535, 8], [7, 0, 9, 65535], [2, 65535, 0, 4], [65535, 65535, 3, 0]]\n",
      "\n",
      "[[0, 5, 11, 8], [7, 0, 9, 13], [2, 7, 0, 4], [5, 10, 3, 0]]\n"
     ]
    }
   ],
   "source": [
    "def floydWarshall():\n",
    "    d = [[0] * N for _ in range(N)]\n",
    "\n",
    "    for i in range(N):\n",
    "        for j in range(N):\n",
    "            d[i][j] = arr[i][j]\n",
    "\n",
    "    for k in range(N):\n",
    "        for i in range(N):\n",
    "            for j in range(N):\n",
    "                if d[i][j] > d[i][k] + d[k][j]:\n",
    "                    d[i][j] = d[i][k] + d[k][j]\n",
    "    print(d)\n",
    "\n",
    "N = 4\n",
    "INF = 0xffff\n",
    "arr = [\n",
    "    [0, 5, INF, 8],\n",
    "    [7, 0, 9, INF],\n",
    "    [2, INF, 0, 4],\n",
    "    [INF, INF, 3, 0]\n",
    "]\n",
    "\n",
    "print(arr)\n",
    "print()\n",
    "floydWarshall()"
   ]
  }
 ],
 "metadata": {
  "kernelspec": {
   "display_name": "Python 3",
   "language": "python",
   "name": "python3"
  },
  "language_info": {
   "codemirror_mode": {
    "name": "ipython",
    "version": 3
   },
   "file_extension": ".py",
   "mimetype": "text/x-python",
   "name": "python",
   "nbconvert_exporter": "python",
   "pygments_lexer": "ipython3",
   "version": "3.7.4"
  }
 },
 "nbformat": 4,
 "nbformat_minor": 4
}
