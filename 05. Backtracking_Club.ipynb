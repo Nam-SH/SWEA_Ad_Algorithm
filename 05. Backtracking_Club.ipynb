{
 "cells": [
  {
   "cell_type": "markdown",
   "metadata": {},
   "source": [
    "# 1486. 장훈이의 높은 선반\n",
    "\n",
    "<br>\n",
    "\n",
    "![image](https://user-images.githubusercontent.com/50367487/65472722-e2f71f00-deaf-11e9-9e03-cf201549578a.png)"
   ]
  },
  {
   "cell_type": "code",
   "execution_count": null,
   "metadata": {},
   "outputs": [],
   "source": [
    "import sys; sys.stdin = open('data/(1486)input.txt', 'r')\n",
    "\n",
    "def backtrack(idx, res):\n",
    "    global Min\n",
    "\n",
    "    if Min <= res: return\n",
    "\n",
    "    if res >= H:\n",
    "        Min = min(Min, res)\n",
    "        return\n",
    "\n",
    "    if idx >= N: return\n",
    "\n",
    "    backtrack(idx + 1, res + arr[idx])\n",
    "    backtrack(idx + 1, res)\n",
    "\n",
    "for tc in range(int(input())):\n",
    "    N, H = map(int, input().split())\n",
    "    arr = list(map(int, input().split()))\n",
    "    Min = 0xfffff\n",
    "    backtrack(0, 0)\n",
    "    print('#{} {}'.format(tc + 1, Min - H))"
   ]
  }
 ],
 "metadata": {
  "kernelspec": {
   "display_name": "Python 3",
   "language": "python",
   "name": "python3"
  },
  "language_info": {
   "codemirror_mode": {
    "name": "ipython",
    "version": 3
   },
   "file_extension": ".py",
   "mimetype": "text/x-python",
   "name": "python",
   "nbconvert_exporter": "python",
   "pygments_lexer": "ipython3",
   "version": "3.7.4"
  }
 },
 "nbformat": 4,
 "nbformat_minor": 4
}
