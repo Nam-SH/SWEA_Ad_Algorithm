{
 "cells": [
  {
   "cell_type": "markdown",
   "metadata": {},
   "source": [
    "# 5247. 연산\n",
    "\n",
    "<br>\n",
    "\n",
    "![image](https://user-images.githubusercontent.com/50367487/65122844-e5c7bf00-da2c-11e9-8c4b-062a55a93d8e.png)"
   ]
  },
  {
   "cell_type": "code",
   "execution_count": null,
   "metadata": {},
   "outputs": [],
   "source": [
    "import sys; sys.stdin = open('data/(5247)input.txt', 'r')\n",
    "from collections import deque\n",
    "\n",
    "def find(N, M):\n",
    "    global res\n",
    "\n",
    "    q = deque()\n",
    "    q.append((N, 0))\n",
    "    check[N] = 1\n",
    "\n",
    "    while q:\n",
    "        num, cnt = q.popleft()\n",
    "\n",
    "        if num == M:\n",
    "            res = cnt\n",
    "            return\n",
    "\n",
    "        for i in '+1', '-1', '*2', '-10':\n",
    "            if i == '+1': val = num + 1\n",
    "            elif i == '-1': val = num - 1\n",
    "            elif i == '*2': val = num * 2\n",
    "            else: val = num - 10\n",
    "\n",
    "            if not (0 < val <= 1000000): continue\n",
    "            if check[val]: continue\n",
    "            q.append((val, cnt+1))\n",
    "            check[val] = 1\n",
    "\n",
    "for tc in range(int(input())):\n",
    "    N, M = map(int, input().split())\n",
    "    check = [0] * 1000001\n",
    "    res = 0\n",
    "    find(N, M)\n",
    "    print('#{} {}'.format(tc + 1, res))"
   ]
  },
  {
   "cell_type": "markdown",
   "metadata": {},
   "source": [
    "# 5248. 그룹 나누기\n",
    "\n",
    "<br>\n",
    "\n",
    "![image](https://user-images.githubusercontent.com/50367487/65122856-ea8c7300-da2c-11e9-8408-8c3cd7e87e5c.png)"
   ]
  },
  {
   "cell_type": "code",
   "execution_count": null,
   "metadata": {},
   "outputs": [],
   "source": []
  },
  {
   "cell_type": "markdown",
   "metadata": {},
   "source": [
    "# 5249. 최소 신장 트리\n",
    "\n",
    "<br>\n",
    "\n",
    "![image](https://user-images.githubusercontent.com/50367487/65122862-efe9bd80-da2c-11e9-834f-4c77be333c43.png)"
   ]
  },
  {
   "cell_type": "code",
   "execution_count": null,
   "metadata": {},
   "outputs": [],
   "source": [
    "import sys; sys.stdin = open('data/(5248)input.txt', 'r')\n",
    "\n",
    "from collections import deque\n",
    "\n",
    "def BFS(start):\n",
    "\n",
    "    q = deque()\n",
    "    q.append(start)\n",
    "\n",
    "    while q:\n",
    "        start = q.popleft()\n",
    "        visit[start] = 1\n",
    "        for next in lst[start]:\n",
    "            if visit[next]: continue\n",
    "            q.append(next)\n",
    "\n",
    "for tc in range(int(input())):\n",
    "    N, M = map(int, input().split())\n",
    "    arr = list(map(int, input().split()))\n",
    "    lst = [[] for _ in range(N + 1)]\n",
    "    visit = [0] * (N + 1)\n",
    "\n",
    "    for i in range(0, 2 * M, 2):\n",
    "        lst[arr[i]].append(arr[i + 1])\n",
    "        lst[arr[i + 1]].append(arr[i])\n",
    "\n",
    "    cnt = 0\n",
    "    for i in range(1, N + 1):\n",
    "        if visit[i]: continue\n",
    "        BFS(i)\n",
    "        cnt += 1\n",
    "\n",
    "    print('#{} {}'.format(tc + 1, cnt))"
   ]
  },
  {
   "cell_type": "markdown",
   "metadata": {},
   "source": [
    "# 5250. 최소 비용\n",
    "\n",
    "<br>\n",
    "\n",
    "![image](https://user-images.githubusercontent.com/50367487/65122871-f6783500-da2c-11e9-8b22-844f34ba211f.png)"
   ]
  },
  {
   "cell_type": "code",
   "execution_count": null,
   "metadata": {},
   "outputs": [],
   "source": [
    "import sys; sys.stdin = open('data/(5250)input.txt', 'r')\n",
    "\n",
    "from collections import deque\n",
    "\n",
    "def BFS(y, x, calc):\n",
    "    global Min\n",
    "\n",
    "    q = deque()\n",
    "    q.append((y, x, calc))\n",
    "\n",
    "    while q:\n",
    "        i, j, res = q.popleft()\n",
    "\n",
    "        if res >= Min: return\n",
    "\n",
    "        if (i, j) == (N - 1, N - 1):\n",
    "            Min = min(Min, res)\n",
    "            return\n",
    "\n",
    "        for dy, dx in (1, 0), (-1, 0), (0, 1), (0, -1):\n",
    "            ty = i + dy\n",
    "            tx = j + dx\n",
    "            if not (0 <= ty < N and 0 <= tx < N): continue\n",
    "            if check[ty][tx]: continue\n",
    "            check[ty][tx] = 1\n",
    "\n",
    "            if arr[ty][tx] > arr[i][j]:\n",
    "                q.append((ty, tx, res + 1 + arr[ty][tx] - arr[i][j]))\n",
    "            else:\n",
    "                q.append((ty, tx, res + 1))\n",
    "\n",
    "for tc in range(int(input())):\n",
    "    N = int(input())\n",
    "    arr = [list(map(int, input().split())) for _ in range(N)]\n",
    "    check = [[0] * N for _ in range(N)]\n",
    "    Min = 99999\n",
    "    BFS(0, 0, 0)\n",
    "    print('#{} {}'.format(tc + 1, Min))"
   ]
  },
  {
   "cell_type": "markdown",
   "metadata": {},
   "source": [
    "# 5251. 최소 이동 거리\n",
    "\n",
    "<br>\n",
    "\n",
    "![image](https://user-images.githubusercontent.com/50367487/65122886-00019d00-da2d-11e9-8c54-c35a632c5ee3.png)"
   ]
  },
  {
   "cell_type": "code",
   "execution_count": null,
   "metadata": {},
   "outputs": [],
   "source": []
  }
 ],
 "metadata": {
  "kernelspec": {
   "display_name": "Python 3",
   "language": "python",
   "name": "python3"
  },
  "language_info": {
   "codemirror_mode": {
    "name": "ipython",
    "version": 3
   },
   "file_extension": ".py",
   "mimetype": "text/x-python",
   "name": "python",
   "nbconvert_exporter": "python",
   "pygments_lexer": "ipython3",
   "version": "3.7.4"
  }
 },
 "nbformat": 4,
 "nbformat_minor": 4
}
