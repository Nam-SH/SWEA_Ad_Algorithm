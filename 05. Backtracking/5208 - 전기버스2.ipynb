{
 "cells": [
  {
   "cell_type": "markdown",
   "metadata": {},
   "source": [
    "# 5208. 전기버스2\n",
    "\n",
    "<br>\n",
    "\n",
    "![image](https://user-images.githubusercontent.com/50367487/64955392-17bd1200-d8c3-11e9-9995-1409a47e599c.png)"
   ]
  },
  {
   "cell_type": "code",
   "execution_count": null,
   "metadata": {},
   "outputs": [],
   "source": [
    "import sys; sys.stdin = open('data/(5208)input.txt', 'r')\n",
    "\n",
    "def backtrack(select):\n",
    "    global cnt, Min\n",
    "\n",
    "    if select >= N:\n",
    "        Min = min(Min ,cnt)\n",
    "        return\n",
    "\n",
    "    if cnt > Min: return\n",
    "\n",
    "    for i in range(select + arr[select], select, -1):\n",
    "        cnt += 1\n",
    "        backtrack(i)\n",
    "        cnt -= 1\n",
    "\n",
    "for tc in range(int(input())):\n",
    "    N, *arr = map(int, input().split())\n",
    "    arr = [0] + arr\n",
    "    Min = 9999\n",
    "    cnt = -1\n",
    "    backtrack(1)\n",
    "    print('#{} {}'.format(tc + 1, Min))"
   ]
  }
 ],
 "metadata": {
  "kernelspec": {
   "display_name": "Python 3",
   "language": "python",
   "name": "python3"
  },
  "language_info": {
   "codemirror_mode": {
    "name": "ipython",
    "version": 3
   },
   "file_extension": ".py",
   "mimetype": "text/x-python",
   "name": "python",
   "nbconvert_exporter": "python",
   "pygments_lexer": "ipython3",
   "version": "3.7.6"
  }
 },
 "nbformat": 4,
 "nbformat_minor": 4
}
