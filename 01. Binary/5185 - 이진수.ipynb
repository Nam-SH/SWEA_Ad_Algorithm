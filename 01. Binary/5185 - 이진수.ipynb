{
 "cells": [
  {
   "cell_type": "markdown",
   "metadata": {},
   "source": [
    "# 5185. 이진수\n",
    "\n",
    "<br>\n",
    "\n",
    "![image](https://user-images.githubusercontent.com/50367487/64625512-48b2c800-d427-11e9-88d7-db1c7f40da09.png)"
   ]
  },
  {
   "cell_type": "code",
   "execution_count": null,
   "metadata": {},
   "outputs": [],
   "source": [
    "import sys; sys.stdin = open('data/(5185)input.txt', 'r')\n",
    "\n",
    "def find(N):\n",
    "    res = ''\n",
    "    for i in range(int(N)):\n",
    "        if len(data[i]) < 4: res += format(int(data[i], 16), 'b').zfill(4)\n",
    "        else: res += format(int(data[i], 16), 'b')\n",
    "    return res\n",
    "\n",
    "for tc in range(int(input())):\n",
    "    N, data = input().split()\n",
    "    print('#{} {}'.format(tc + 1, find(N)))"
   ]
  }
 ],
 "metadata": {
  "kernelspec": {
   "display_name": "Python 3",
   "language": "python",
   "name": "python3"
  },
  "language_info": {
   "codemirror_mode": {
    "name": "ipython",
    "version": 3
   },
   "file_extension": ".py",
   "mimetype": "text/x-python",
   "name": "python",
   "nbconvert_exporter": "python",
   "pygments_lexer": "ipython3",
   "version": "3.7.6"
  },
  "toc": {
   "base_numbering": 1,
   "nav_menu": {},
   "number_sections": true,
   "sideBar": true,
   "skip_h1_title": false,
   "title_cell": "Table of Contents",
   "title_sidebar": "Contents",
   "toc_cell": false,
   "toc_position": {},
   "toc_section_display": true,
   "toc_window_display": false
  }
 },
 "nbformat": 4,
 "nbformat_minor": 4
}
