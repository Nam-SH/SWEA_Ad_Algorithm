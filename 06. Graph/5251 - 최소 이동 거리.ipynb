{
 "cells": [
  {
   "cell_type": "markdown",
   "metadata": {},
   "source": [
    "# 5251. 최소 이동 거리\n",
    "\n",
    "<br>\n",
    "\n",
    "![image](https://user-images.githubusercontent.com/50367487/65122886-00019d00-da2d-11e9-8c54-c35a632c5ee3.png)"
   ]
  },
  {
   "cell_type": "code",
   "execution_count": null,
   "metadata": {},
   "outputs": [],
   "source": [
    "import sys; sys.stdin = open('data/(5251)input.txt', 'r')\n",
    "\n",
    "def floydWarshall():\n",
    "\n",
    "    for k in range(N + 1):\n",
    "        for i in range(N + 1):\n",
    "            for j in range(N + 1):\n",
    "                if arr[i][j] > arr[i][k] + arr[k][j]:\n",
    "                    arr[i][j] = arr[i][k] + arr[k][j]\n",
    "    return arr[0][N]\n",
    "\n",
    "T = int(input())\n",
    "for tc in range(T):\n",
    "    N, E = map(int, input().split())\n",
    "\n",
    "    arr = [[0] * (N + 1) for _ in range(N + 1)]\n",
    "    for i in range(N + 1):\n",
    "        for j in range(N + 1):\n",
    "            if i == j: continue\n",
    "            arr[i][j] = 0xfffff\n",
    "\n",
    "    for _ in range(E):\n",
    "        n1, n2, w = map(int, input().split())\n",
    "        arr[n1][n2] = w\n",
    "\n",
    "    print('#{} {}'.format(tc + 1, floydWarshall()))"
   ]
  },
  {
   "cell_type": "code",
   "execution_count": null,
   "metadata": {},
   "outputs": [],
   "source": [
    "import sys; sys.stdin = open('data/(5251)input.txt', 'r')\n",
    "\n",
    "def floydWarshall():\n",
    "    d = [[0] * (N + 1) for _ in range((N + 1))]\n",
    "\n",
    "    for i in range(N + 1):\n",
    "        for j in range(N + 1):\n",
    "            d[i][j] = arr[i][j]\n",
    "\n",
    "    for k in range(N + 1):\n",
    "        for i in range(N + 1):\n",
    "            for j in range(N + 1):\n",
    "                if d[i][j] > d[i][k] + d[k][j]:\n",
    "                    d[i][j] = d[i][k] + d[k][j]\n",
    "    print(d[0][N])\n",
    "\n",
    "T = int(input())\n",
    "for tc in range(T):\n",
    "    N, E = map(int, input().split())\n",
    "\n",
    "    arr = [[0] * (N + 1) for _ in range(N + 1)]\n",
    "    for i in range(N + 1):\n",
    "        for j in range(N + 1):\n",
    "            if i == j: continue\n",
    "            arr[i][j] = 0xfffff\n",
    "\n",
    "    for _ in range(E):\n",
    "        n1, n2, w = map(int, input().split())\n",
    "        arr[n1][n2] = w\n",
    "\n",
    "    print('#{}'.format(tc + 1), end = ' ')\n",
    "    floydWarshall()"
   ]
  }
 ],
 "metadata": {
  "kernelspec": {
   "display_name": "Python 3",
   "language": "python",
   "name": "python3"
  },
  "language_info": {
   "codemirror_mode": {
    "name": "ipython",
    "version": 3
   },
   "file_extension": ".py",
   "mimetype": "text/x-python",
   "name": "python",
   "nbconvert_exporter": "python",
   "pygments_lexer": "ipython3",
   "version": "3.7.6"
  },
  "toc": {
   "base_numbering": 1,
   "nav_menu": {},
   "number_sections": true,
   "sideBar": true,
   "skip_h1_title": false,
   "title_cell": "Table of Contents",
   "title_sidebar": "Contents",
   "toc_cell": false,
   "toc_position": {},
   "toc_section_display": true,
   "toc_window_display": false
  }
 },
 "nbformat": 4,
 "nbformat_minor": 4
}
