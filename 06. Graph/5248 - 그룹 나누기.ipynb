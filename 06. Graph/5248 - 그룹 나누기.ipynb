{
 "cells": [
  {
   "cell_type": "markdown",
   "metadata": {},
   "source": [
    "# 5248. 그룹 나누기\n",
    "\n",
    "<br>\n",
    "\n",
    "![image](https://user-images.githubusercontent.com/50367487/65122856-ea8c7300-da2c-11e9-8408-8c3cd7e87e5c.png)"
   ]
  },
  {
   "cell_type": "code",
   "execution_count": null,
   "metadata": {},
   "outputs": [],
   "source": [
    "def getParent(parent, num):\n",
    "    if parent[num] == num: return num\n",
    "    return getParent(parent, parent[num])\n",
    "\n",
    "def unionParent(parent, num1, num2):\n",
    "    a = getParent(parent, num1)\n",
    "    b = getParent(parent, num2)\n",
    "    if a == b: return\n",
    "    if a < b: parent[b] = a\n",
    "    else: parent[a] = b\n",
    "\n",
    "def findParent(parent, num1, num2):\n",
    "    a = getParent(parent, num1)\n",
    "    b = getParent(parent, num2)\n",
    "    if a == b: return True\n",
    "    else: return False\n",
    "\n",
    "\n",
    "for tc in range(int(input())):\n",
    "\n",
    "    N, M = map(int, input().split())\n",
    "    arr = list(map(int, input().split()))\n",
    "\n",
    "    parent = [i for i in range(N + 1)]\n",
    "    for i in range(0, 2 * M, 2):\n",
    "        unionParent(parent, arr[i], arr[i + 1])\n",
    "\n",
    "    new = []\n",
    "    for i in parent:\n",
    "        new += [getParent(parent, i)]\n",
    "\n",
    "    res = len(set(new)) - 1\n",
    "\n",
    "    print('#{} {}'.format(tc + 1, res))"
   ]
  },
  {
   "cell_type": "code",
   "execution_count": null,
   "metadata": {},
   "outputs": [],
   "source": [
    "import sys; sys.stdin = open('data/(5248)input.txt', 'r')\n",
    "\n",
    "from collections import deque\n",
    "\n",
    "def BFS(start):\n",
    "\n",
    "    q = deque()\n",
    "    q.append(start)\n",
    "\n",
    "    while q:\n",
    "        start = q.popleft()\n",
    "        visit[start] = 1\n",
    "        for next in lst[start]:\n",
    "            if visit[next]: continue\n",
    "            q.append(next)\n",
    "\n",
    "for tc in range(int(input())):\n",
    "    N, M = map(int, input().split())\n",
    "    arr = list(map(int, input().split()))\n",
    "    lst = [[] for _ in range(N + 1)]\n",
    "    visit = [0] * (N + 1)\n",
    "\n",
    "    for i in range(0, 2 * M, 2):\n",
    "        lst[arr[i]].append(arr[i + 1])\n",
    "        lst[arr[i + 1]].append(arr[i])\n",
    "\n",
    "    cnt = 0\n",
    "    for i in range(1, N + 1):\n",
    "        if visit[i]: continue\n",
    "        BFS(i)\n",
    "        cnt += 1\n",
    "\n",
    "    print('#{} {}'.format(tc + 1, cnt))"
   ]
  }
 ],
 "metadata": {
  "kernelspec": {
   "display_name": "Python 3",
   "language": "python",
   "name": "python3"
  },
  "language_info": {
   "codemirror_mode": {
    "name": "ipython",
    "version": 3
   },
   "file_extension": ".py",
   "mimetype": "text/x-python",
   "name": "python",
   "nbconvert_exporter": "python",
   "pygments_lexer": "ipython3",
   "version": "3.7.6"
  },
  "toc": {
   "base_numbering": 1,
   "nav_menu": {},
   "number_sections": true,
   "sideBar": true,
   "skip_h1_title": false,
   "title_cell": "Table of Contents",
   "title_sidebar": "Contents",
   "toc_cell": false,
   "toc_position": {},
   "toc_section_display": true,
   "toc_window_display": false
  }
 },
 "nbformat": 4,
 "nbformat_minor": 4
}
