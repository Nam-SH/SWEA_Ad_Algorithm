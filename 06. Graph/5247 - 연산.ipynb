{
 "cells": [
  {
   "cell_type": "markdown",
   "metadata": {},
   "source": [
    "# 5247. 연산\n",
    "\n",
    "<br>\n",
    "\n",
    "![image](https://user-images.githubusercontent.com/50367487/65122844-e5c7bf00-da2c-11e9-8c4b-062a55a93d8e.png)"
   ]
  },
  {
   "cell_type": "code",
   "execution_count": null,
   "metadata": {},
   "outputs": [],
   "source": [
    "import sys; sys.stdin = open('data/(5247)input.txt', 'r')\n",
    "from collections import deque\n",
    "\n",
    "def find(N, M):\n",
    "    global res\n",
    "\n",
    "    q = deque()\n",
    "    q.append((N, 0))\n",
    "    check[N] = 1\n",
    "\n",
    "    while q:\n",
    "        num, cnt = q.popleft()\n",
    "\n",
    "        if num == M:\n",
    "            res = cnt\n",
    "            return\n",
    "\n",
    "        for i in '+1', '-1', '*2', '-10':\n",
    "            if i == '+1': val = num + 1\n",
    "            elif i == '-1': val = num - 1\n",
    "            elif i == '*2': val = num * 2\n",
    "            else: val = num - 10\n",
    "\n",
    "            if not (0 < val <= 1000000): continue\n",
    "            if check[val]: continue\n",
    "            q.append((val, cnt+1))\n",
    "            check[val] = 1\n",
    "\n",
    "for tc in range(int(input())):\n",
    "    N, M = map(int, input().split())\n",
    "    check = [0] * 1000001\n",
    "    res = 0\n",
    "    find(N, M)\n",
    "    print('#{} {}'.format(tc + 1, res))"
   ]
  }
 ],
 "metadata": {
  "kernelspec": {
   "display_name": "Python 3",
   "language": "python",
   "name": "python3"
  },
  "language_info": {
   "codemirror_mode": {
    "name": "ipython",
    "version": 3
   },
   "file_extension": ".py",
   "mimetype": "text/x-python",
   "name": "python",
   "nbconvert_exporter": "python",
   "pygments_lexer": "ipython3",
   "version": "3.7.6"
  },
  "toc": {
   "base_numbering": 1,
   "nav_menu": {},
   "number_sections": true,
   "sideBar": true,
   "skip_h1_title": false,
   "title_cell": "Table of Contents",
   "title_sidebar": "Contents",
   "toc_cell": false,
   "toc_position": {},
   "toc_section_display": true,
   "toc_window_display": false
  }
 },
 "nbformat": 4,
 "nbformat_minor": 4
}
