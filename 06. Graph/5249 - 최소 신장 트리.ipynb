{
 "cells": [
  {
   "cell_type": "markdown",
   "metadata": {},
   "source": [
    "# 5249. 최소 신장 트리\n",
    "\n",
    "<br>\n",
    "\n",
    "![image](https://user-images.githubusercontent.com/50367487/65122862-efe9bd80-da2c-11e9-834f-4c77be333c43.png)"
   ]
  },
  {
   "cell_type": "code",
   "execution_count": null,
   "metadata": {},
   "outputs": [],
   "source": [
    "import sys; sys.stdin = open('data/(5249)input.txt', 'r')\n",
    "\n",
    "\n",
    "def getParent(parent, num):\n",
    "    if parent[num] == num: return num\n",
    "    return getParent(parent, parent[num])\n",
    "\n",
    "def unionParent(parent, num1, num2):\n",
    "    a = getParent(parent, num1)\n",
    "    b = getParent(parent, num2)\n",
    "    if a == b: return\n",
    "    if a < b: parent[b] = a\n",
    "    else: parent[a] = b\n",
    "\n",
    "def findParent(parent, num1, num2):\n",
    "    a = getParent(parent, num1)\n",
    "    b = getParent(parent, num2)\n",
    "    if a == b: return True\n",
    "    else: return False\n",
    "\n",
    "\n",
    "for tc in range(int(input())):\n",
    "\n",
    "    V, E = map(int, input().split())\n",
    "    parent = [i for i in range(V + 1)]\n",
    "\n",
    "    arr = [tuple(map(int, input().split())) for _ in range(E)]\n",
    "    arr.sort(key = lambda x: x[2])\n",
    "\n",
    "    sum = 0\n",
    "    for a in arr:\n",
    "        if findParent(parent, a[0], a[1]): continue\n",
    "        sum += a[2]\n",
    "        unionParent(parent, a[0], a[1])\n",
    "\n",
    "    print('#{} {}'.format(tc + 1, sum))"
   ]
  }
 ],
 "metadata": {
  "kernelspec": {
   "display_name": "Python 3",
   "language": "python",
   "name": "python3"
  },
  "language_info": {
   "codemirror_mode": {
    "name": "ipython",
    "version": 3
   },
   "file_extension": ".py",
   "mimetype": "text/x-python",
   "name": "python",
   "nbconvert_exporter": "python",
   "pygments_lexer": "ipython3",
   "version": "3.7.6"
  },
  "toc": {
   "base_numbering": 1,
   "nav_menu": {},
   "number_sections": true,
   "sideBar": true,
   "skip_h1_title": false,
   "title_cell": "Table of Contents",
   "title_sidebar": "Contents",
   "toc_cell": false,
   "toc_position": {},
   "toc_section_display": true,
   "toc_window_display": false
  }
 },
 "nbformat": 4,
 "nbformat_minor": 4
}
