{
 "cells": [
  {
   "cell_type": "markdown",
   "metadata": {},
   "source": [
    "# 5250. 최소 비용\n",
    "\n",
    "<br>\n",
    "\n",
    "![image](https://user-images.githubusercontent.com/50367487/65122871-f6783500-da2c-11e9-8b22-844f34ba211f.png)"
   ]
  },
  {
   "cell_type": "code",
   "execution_count": null,
   "metadata": {},
   "outputs": [],
   "source": [
    "import sys;sys.stdin = open('data/(5250)input.txt', 'r')\n",
    "\n",
    "from collections import deque\n",
    "\n",
    "def find():\n",
    "    q = deque()\n",
    "    q.append((0, 0))\n",
    "    check[0][0] = 0\n",
    "\n",
    "    while q:\n",
    "        y, x = q.popleft()\n",
    "        for ny, nx in (-1, 0), (0, 1), (1, 0), (0, -1):\n",
    "            ty = y + ny; tx = x + nx\n",
    "            if not (0 <= ty < N > tx >= 0): continue\n",
    "\n",
    "            if arr[ty][tx] > arr[y][x]: w = arr[ty][tx] - arr[y][x] + 1\n",
    "            else: w = 1\n",
    "\n",
    "            if check[ty][tx] > check[y][x] + w:\n",
    "                check[ty][tx] = check[y][x] + w\n",
    "                q.append((ty, tx))\n",
    "\n",
    "    return check[N - 1][N - 1]\n",
    "\n",
    "\n",
    "for tc in range(int(input())):\n",
    "    N = int(input())\n",
    "    arr = [list(map(int, input().split())) for _ in range(N)]\n",
    "    check = [[0xffffff] * N for _ in range(N)]\n",
    "    ans = find()\n",
    "\n",
    "    print(f'#{tc + 1} {ans})"
   ]
  }
 ],
 "metadata": {
  "kernelspec": {
   "display_name": "Python 3",
   "language": "python",
   "name": "python3"
  },
  "language_info": {
   "codemirror_mode": {
    "name": "ipython",
    "version": 3
   },
   "file_extension": ".py",
   "mimetype": "text/x-python",
   "name": "python",
   "nbconvert_exporter": "python",
   "pygments_lexer": "ipython3",
   "version": "3.7.6"
  },
  "toc": {
   "base_numbering": 1,
   "nav_menu": {},
   "number_sections": true,
   "sideBar": true,
   "skip_h1_title": false,
   "title_cell": "Table of Contents",
   "title_sidebar": "Contents",
   "toc_cell": false,
   "toc_position": {},
   "toc_section_display": true,
   "toc_window_display": false
  }
 },
 "nbformat": 4,
 "nbformat_minor": 4
}
