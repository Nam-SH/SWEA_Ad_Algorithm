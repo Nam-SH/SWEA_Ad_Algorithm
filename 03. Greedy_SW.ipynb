{
 "cells": [
  {
   "cell_type": "markdown",
   "metadata": {},
   "source": [
    "# 5201. 컨테이너 운반\n",
    "\n",
    "\n",
    "<br>\n",
    "\n",
    "![image](https://user-images.githubusercontent.com/50367487/64157071-001c6d00-ce71-11e9-953d-c09ed3d52379.png)"
   ]
  },
  {
   "cell_type": "code",
   "execution_count": null,
   "metadata": {},
   "outputs": [],
   "source": [
    "import sys; sys.stdin = open('data/(5201)input.txt', 'r')\n",
    "\n",
    "for tc in range(int(input())):\n",
    "    N, M = map(int, input().split())\n",
    "    Weight = list(map(int, input().split()))\n",
    "    Truck = list(map(int, input().split()))\n",
    "\n",
    "    Truck_finall = [0] * len(Truck)\n",
    "    Weight_check = [False] * len(Weight)\n",
    "\n",
    "    Weight.sort(reverse=True)\n",
    "    Truck.sort(reverse=True)\n",
    "\n",
    "    for t in range(len(Truck)):\n",
    "        for w in range(len(Weight)):\n",
    "            if Weight_check[w]: continue\n",
    "            if Truck[t] >= Weight[w]:\n",
    "                Truck_finall[t] = Weight[w]\n",
    "                Weight_check[w]= True\n",
    "                break\n",
    "\n",
    "    print('#{} {}'.format(tc + 1, sum(Truck_finall)))"
   ]
  },
  {
   "cell_type": "markdown",
   "metadata": {},
   "source": [
    "# 5202. 화물 도크\n",
    "\n",
    "<br>\n",
    "\n",
    "![image](https://user-images.githubusercontent.com/50367487/64157035-e713bc00-ce70-11e9-93a3-293105f993f8.png)"
   ]
  },
  {
   "cell_type": "code",
   "execution_count": null,
   "metadata": {},
   "outputs": [],
   "source": [
    "import sys; sys.stdin = open('data/(5202)input.txt', 'r')\n",
    "\n",
    "\n",
    "def find(idx):\n",
    "    global start\n",
    "\n",
    "    if idx == N:\n",
    "        print('#{} {}'.format(tc + 1, len(ans)))\n",
    "        return\n",
    "\n",
    "    if start <= arr[idx][0]:\n",
    "        ans.append(arr[idx])\n",
    "        start = arr[idx][1]\n",
    "        find(idx + 1)\n",
    "    else:\n",
    "        find(idx + 1)\n",
    "\n",
    "for tc in range(int(input())):\n",
    "    N = int(input())\n",
    "    arr = [tuple(map(int, input().split())) for  _ in range(N)]\n",
    "    arr.sort(key=lambda x:x[1])\n",
    "\n",
    "    ans = [arr[0]]\n",
    "    start = arr[0][1]\n",
    "    check = [0]*N\n",
    "\n",
    "    find(1)"
   ]
  },
  {
   "cell_type": "markdown",
   "metadata": {},
   "source": [
    "# 5203. 베이비진 게임\n",
    "\n",
    "<br>\n",
    "\n",
    "![image](https://user-images.githubusercontent.com/50367487/64157046-ed099d00-ce70-11e9-874d-e103f7602b9c.png)"
   ]
  },
  {
   "cell_type": "code",
   "execution_count": null,
   "metadata": {},
   "outputs": [],
   "source": [
    "def babygin(data):\n",
    "    global res\n",
    "\n",
    "    cnt = [0] * 10\n",
    "    for i in range(len(data)): cnt[data[i]] += 1\n",
    "\n",
    "    for i in range(len(cnt)):\n",
    "        if cnt[i] >= 3:\n",
    "            cnt[i] -= 3\n",
    "            res += 1\n",
    "\n",
    "        if not (i - 1 >= 0 and i + 1 < len(cnt)): continue\n",
    "        if cnt[i - 1] > 0 and cnt[i] > 0 and cnt[i + 1] > 0:\n",
    "            cnt[i - 1] -= 1\n",
    "            cnt[i] -= 1\n",
    "            cnt[i + 1] -= 1\n",
    "            res += 1\n",
    "\n",
    "    for i in range(len(cnt)):\n",
    "        if not cnt[i]:\n",
    "            return"
   ]
  },
  {
   "cell_type": "code",
   "execution_count": null,
   "metadata": {},
   "outputs": [],
   "source": [
    "import sys; sys.stdin = open('data/(5203)input.txt', 'r')\n",
    "\n",
    "def babygin(data):\n",
    "    cnt = [0] * 10\n",
    "    for i in range(len(data)): cnt[data[i]] += 1\n",
    "\n",
    "    for i in range(len(cnt)):\n",
    "        if cnt[i] >= 3:\n",
    "            cnt[i] -= 3\n",
    "            return True\n",
    "\n",
    "        if not (i - 1 >= 0 and i + 1 < len(cnt)): continue\n",
    "        if cnt[i - 1] > 0 and cnt[i] > 0 and cnt[i + 1] > 0:\n",
    "            return True\n",
    "\n",
    "    for i in range(len(cnt)):\n",
    "        if not cnt[i]: return False\n",
    "\n",
    "for tc in range(int(input())):\n",
    "    arr = list(map(int, input().split()))\n",
    "    cnt = [0] * 10\n",
    "    \n",
    "    one, two = [], []\n",
    "    for i in range(0, len(arr), 2):\n",
    "        one.append(arr[i])\n",
    "        two.append(arr[i + 1])\n",
    "\n",
    "        out = 0; num = 1\n",
    "        for i in one, two:\n",
    "            if babygin(i):\n",
    "                print('#{} {}'.format(tc + 1, num))\n",
    "                out = 1\n",
    "                break\n",
    "            num += 1\n",
    "        if out: break\n",
    "    else: print('#{} 0'.format(tc + 1))"
   ]
  }
 ],
 "metadata": {
  "kernelspec": {
   "display_name": "Python 3",
   "language": "python",
   "name": "python3"
  },
  "language_info": {
   "codemirror_mode": {
    "name": "ipython",
    "version": 3
   },
   "file_extension": ".py",
   "mimetype": "text/x-python",
   "name": "python",
   "nbconvert_exporter": "python",
   "pygments_lexer": "ipython3",
   "version": "3.7.4"
  },
  "toc": {
   "base_numbering": 1,
   "nav_menu": {},
   "number_sections": true,
   "sideBar": true,
   "skip_h1_title": false,
   "title_cell": "Table of Contents",
   "title_sidebar": "Contents",
   "toc_cell": false,
   "toc_position": {},
   "toc_section_display": true,
   "toc_window_display": false
  }
 },
 "nbformat": 4,
 "nbformat_minor": 4
}
